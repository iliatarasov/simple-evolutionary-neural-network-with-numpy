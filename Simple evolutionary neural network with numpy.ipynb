{
 "cells": [
  {
   "cell_type": "markdown",
   "metadata": {},
   "source": [
    "# Introduction"
   ]
  },
  {
   "cell_type": "markdown",
   "metadata": {},
   "source": [
    "This is a learning project that aims to build an elementary evolutionary neural network to play a simple game of survival. The main idea behind this work is to create a trainable neural network without backpropagation while relying only on random mutations.\n",
    "\n",
    "IMPORTANT: Python version >= 3.11 is required."
   ]
  },
  {
   "cell_type": "markdown",
   "metadata": {},
   "source": [
    "# Game description"
   ]
  },
  {
   "cell_type": "markdown",
   "metadata": {},
   "source": [
    "The game consists of an environment in the form of a wraparound square field and two types of cells: agents and food. The objective is simple: an agent must collect as many food cells as it can within the given time (in the image below, blue is agent, pink is food). "
   ]
  },
  {
   "cell_type": "markdown",
   "metadata": {},
   "source": [
    "![text](https://raw.githubusercontent.com/iliatarasov/simple-evolutionary-neural-network-with-numpy/main/data/agents/step%200.png)"
   ]
  },
  {
   "cell_type": "markdown",
   "metadata": {},
   "source": [
    "Each agent is a single linear layer of neurons with an input size relative to the environment size, an output size of 4 and softmax activation.\n",
    "```python\n",
    "class Agent:\n",
    "    def __init__(self, field_size: int=20, primarch: bool=False) -> None:\n",
    "        if primarch:\n",
    "            self.weights = np.random.randn(field_size ** 2, 4)\n",
    "            self.biases = np.zeros(4)\n",
    "        self.score = 0\n",
    "        self.field_size = field_size\n",
    "```"
   ]
  },
  {
   "cell_type": "markdown",
   "metadata": {},
   "source": [
    "Given the field state as an input, this layer constructs a probability vector that describes the agent's desired direction of the next move. The vector is decoded by argmax into a scalar (0: left, 1: right, 2: down, 3: up). \n",
    "\n",
    "```python\n",
    "class Agent:\n",
    "        ...\n",
    "        def forward(self, board: np.ndarray) -> int:\n",
    "                value = np.matmul(board.flatten().T, self.weights) + self.biases\n",
    "                softmax = np.exp(value) / (np.exp(value).sum() + 1e-6)\n",
    "                return np.argmax(softmax)\n",
    "```"
   ]
  },
  {
   "cell_type": "markdown",
   "metadata": {},
   "source": [
    "Within one round the agent makes a move after seeing the board, then receives a score increment if successfull at obtaining the food, which is immediately replaced (meaning that multiple points can be acquired in one round). This loop continues until the time runs out:\n",
    "```python\n",
    "while time_remaining > 0:\n",
    "    if not food_exists:\n",
    "        #place a food on a random cell other than the agent's position\n",
    "\n",
    "    board = #initialize the board\n",
    "    action = agent.forward(board)\n",
    "\n",
    "    match action:\n",
    "        case 0:\n",
    "            ...\n",
    "\n",
    "    if agent.pos == food_pos:\n",
    "        food_exists = False\n",
    "        agent.score += 1\n",
    "\n",
    "    time_remaining -= 1\n",
    "```"
   ]
  },
  {
   "cell_type": "markdown",
   "metadata": {},
   "source": [
    "If the agent fails to acquire any food at all, I thought it would be useful to still give it some score (it will accelerate initial evolution). That score is proportional to the shortest distance remaining to the food in the last round (in steps) and the ```fail_reward``` parameter."
   ]
  },
  {
   "cell_type": "markdown",
   "metadata": {},
   "source": [
    "A generation is a process of survival and selection, where the ones performing better get to reproduce. The following events occur in each generation:\n",
    "\n",
    "1. All agents play for a set number of rounds and receive their total score:\n",
    "```python \n",
    "    \n",
    "    for agent in self.agents:\n",
    "        scores.append(np.mean([play_round(agent, ...\n",
    "```\n",
    "2. The ones that will reproduce are determined based on performance:\n",
    "```python\n",
    "\n",
    "    reproducing_agents = sorted(zip(self.agents, scores), key=lambda x: x[1], \n",
    "                                reverse=True)[:n_reproducing]\n",
    "```\n",
    "3. Children are created via the specified reproduction method, then they receive a random mutaion and are added to the next generation of agents:\n",
    "```python\n",
    "\n",
    "    self.agents = []\n",
    "    parent = iter(reproducing_agents)\n",
    "    match reproduction_type:\n",
    "        case 'sexual':\n",
    "            for parent1, parent2 in zip(parent, parent):\n",
    "                for _ in range(int(2 / reproducing_percentage)):\n",
    "                    child = parent1[0].reproduce(parent2[0], \n",
    "                                                type='sexual')\n",
    "                    child.mutate(mutation_rate=mutation_rate)\n",
    "                    self.agents.append(child)\n",
    "        case 'asexual':\n",
    "            for parent0 in parent:\n",
    "                for _ in range(int(1 / reproducing_percentage)):\n",
    "                    child = parent0[0].reproduce(type='asexual')                        \n",
    "                    child.mutate(mutation_rate=mutation_rate)\n",
    "                    self.agents.append(child)\n",
    "```"
   ]
  },
  {
   "cell_type": "markdown",
   "metadata": {},
   "source": [
    "The mutation operation is just an addition of Gaussian noise to the 'genome':\n",
    "```python\n",
    "def mutate(self, mutation_rate: float=0.01) -> None:\n",
    "    self.weights += np.random.randn(*self.weights.shape) * mutation_rate\n",
    "    self.biases += np.random.randn(*self.biases.shape) * mutation_rate\n",
    "```"
   ]
  },
  {
   "cell_type": "markdown",
   "metadata": {},
   "source": [
    "# Network initialization and training"
   ]
  },
  {
   "cell_type": "code",
   "execution_count": 1,
   "metadata": {},
   "outputs": [],
   "source": [
    "import pickle\n",
    "import matplotlib.pyplot as plt\n",
    "import numpy as np\n",
    "from evo.network import Evo"
   ]
  },
  {
   "cell_type": "markdown",
   "metadata": {},
   "source": [
    "Let us initialize a network of 100 agents in a 10x10 field:"
   ]
  },
  {
   "cell_type": "code",
   "execution_count": 2,
   "metadata": {},
   "outputs": [],
   "source": [
    "n_agents = 100\n",
    "field_size = 10\n",
    "evo = Evo(n_agents, field_size)"
   ]
  },
  {
   "cell_type": "markdown",
   "metadata": {},
   "source": [
    "The network will be trained for 20000 generations, each agent will play 10 rounds in its lifetime, mutation will be constant at a rate of ~10% of the primarch genes, 20% of agents will reproduce sexually paired best-to-second-best:"
   ]
  },
  {
   "cell_type": "code",
   "execution_count": 3,
   "metadata": {},
   "outputs": [],
   "source": [
    "n_generations = 20000\n",
    "rounds_per_agent = 10\n",
    "mutation_type = 'constant' \n",
    "initial_mutation_rate = 0.1\n",
    "pairing_type = 'best' \n",
    "reproducing_percentage = 0.2 \n",
    "reproduction_type = 'sexual' \n",
    "output_path = 'data/results.pkl'"
   ]
  },
  {
   "cell_type": "code",
   "execution_count": 4,
   "metadata": {},
   "outputs": [
    {
     "name": "stdout",
     "output_type": "stream",
     "text": [
      "Generation 1000/20000\t high score: 9.6\n",
      "Generation 2000/20000\t high score: 10.8\n",
      "Generation 3000/20000\t high score: 10.8\n",
      "Generation 4000/20000\t high score: 11.1\n",
      "Generation 5000/20000\t high score: 11.6\n",
      "Generation 6000/20000\t high score: 12.1\n",
      "Generation 7000/20000\t high score: 12.1\n",
      "Generation 8000/20000\t high score: 12.5\n",
      "Generation 9000/20000\t high score: 12.8\n",
      "Generation 10000/20000\t high score: 12.9\n",
      "Generation 11000/20000\t high score: 12.9\n",
      "Generation 12000/20000\t high score: 12.9\n",
      "Generation 13000/20000\t high score: 13.35\n",
      "Generation 14000/20000\t high score: 13.35\n",
      "Generation 15000/20000\t high score: 13.35\n",
      "Generation 16000/20000\t high score: 13.35\n",
      "Generation 17000/20000\t high score: 13.35\n",
      "Generation 18000/20000\t high score: 13.35\n",
      "Generation 19000/20000\t high score: 13.35\n",
      "Generation 20000/20000\t high score: 14.1\n"
     ]
    }
   ],
   "source": [
    "evo.train(n_generations=n_generations,\n",
    "          rounds_per_agent=rounds_per_agent,\n",
    "          mutation_type=mutation_type,\n",
    "          initial_mutation_rate=initial_mutation_rate,\n",
    "          reproducing_percentage=reproducing_percentage,\n",
    "          reproduction_type=reproduction_type,\n",
    "          pairing_type=pairing_type,\n",
    "          output_path=output_path)"
   ]
  },
  {
   "cell_type": "markdown",
   "metadata": {},
   "source": [
    "# Results"
   ]
  },
  {
   "cell_type": "markdown",
   "metadata": {},
   "source": [
    "Import the data that we pickled:"
   ]
  },
  {
   "cell_type": "code",
   "execution_count": 4,
   "metadata": {},
   "outputs": [],
   "source": [
    "with open(output_path, 'rb') as file:\n",
    "    results = pickle.load(file)"
   ]
  },
  {
   "cell_type": "markdown",
   "metadata": {},
   "source": [
    "Plot mean and high scores per generation:"
   ]
  },
  {
   "cell_type": "code",
   "execution_count": 38,
   "metadata": {},
   "outputs": [
    {
     "data": {
      "text/plain": [
       "Text(0.5, 1.0, 'Mean scores per generation')"
      ]
     },
     "execution_count": 38,
     "metadata": {},
     "output_type": "execute_result"
    },
    {
     "data": {
      "image/png": "[encoded data removed]",
      "text/plain": [
       "<Figure size 800x400 with 1 Axes>"
      ]
     },
     "metadata": {},
     "output_type": "display_data"
    }
   ],
   "source": [
    "%matplotlib inline\n",
    "plt.figure(figsize=(8, 4))\n",
    "plt.plot(results['mean scores'])\n",
    "plt.title(f'Mean scores per generation')"
   ]
  },
  {
   "cell_type": "code",
   "execution_count": 37,
   "metadata": {},
   "outputs": [
    {
     "data": {
      "text/plain": [
       "Text(0.5, 1.0, 'High scores per generation')"
      ]
     },
     "execution_count": 37,
     "metadata": {},
     "output_type": "execute_result"
    },
    {
     "data": {
      "image/png": "[encoded data removed]",
      "text/plain": [
       "<Figure size 800x400 with 1 Axes>"
      ]
     },
     "metadata": {},
     "output_type": "display_data"
    }
   ],
   "source": [
    "plt.figure(figsize=(8, 4))\n",
    "plt.plot(results['high scores'])\n",
    "plt.title(f'High scores per generation')"
   ]
  },
  {
   "cell_type": "markdown",
   "metadata": {},
   "source": [
    "As you can see, mean and high scores per generation increase rapidly at first and then continue rising slowly. My understanding of this is that mutations are very favorable in the beginning as most of the agents will perfopm poorly, whereas closer to the end it is accumulated knowledge that is more important and with each generation an advancing mutation is less and less likely to appear. "
   ]
  },
  {
   "cell_type": "markdown",
   "metadata": {},
   "source": [
    "Let us now inspect the best agent and its score (remember, this score is over 10 rounds):"
   ]
  },
  {
   "cell_type": "code",
   "execution_count": 30,
   "metadata": {},
   "outputs": [
    {
     "name": "stdout",
     "output_type": "stream",
     "text": [
      "21\n"
     ]
    }
   ],
   "source": [
    "best_agent = results['best agents'][np.argmax(results['high scores'])]\n",
    "print(best_agent.score)"
   ]
  },
  {
   "cell_type": "markdown",
   "metadata": {},
   "source": [
    "Make the agent play a round and visualize it:"
   ]
  },
  {
   "cell_type": "code",
   "execution_count": 12,
   "metadata": {},
   "outputs": [
    {
     "data": {
      "text/plain": [
       "5.0"
      ]
     },
     "execution_count": 12,
     "metadata": {},
     "output_type": "execute_result"
    }
   ],
   "source": [
    "from evo.play import vizualize_round\n",
    "vizualize_round(best_agent, path='data/agents/', time_limit=50)"
   ]
  },
  {
   "cell_type": "markdown",
   "metadata": {},
   "source": [
    "I haven't found a good way to embed a gif into a jupyter notebook file for display on github, so here is a link instead: [GIF](https://raw.githubusercontent.com/iliatarasov/simple-evolutionary-neural-network-with-numpy/main/data/agents/animation.gif) (it is the same GIF as in README.md). I have noticed that over 20000 generations the agents have generally learned to move in a top-right to bottom-left diagonal direction. The agent displayed in the GIF does this while adjusting its position slightly to catch the food."
   ]
  },
  {
   "cell_type": "markdown",
   "metadata": {},
   "source": [
    "# Conclusion"
   ]
  },
  {
   "cell_type": "markdown",
   "metadata": {},
   "source": [
    "The main goal of this project was to demonstrate a concept and I am satisfied with what I've been able to achieve. That said, there is still a number of things that could be done if I wanted to improve the quality of the resulting agents: \n",
    "1. Increase the complexity of the agents. My agents are only single-layer networks and this limits the amount of learning they can receive. By adding more linear layers with non-linear activations I assume I can increase their scores. \n",
    "2. Increase the number of training generations. While this can potentially make their scores higher, looking at the graphs of scores per generation my intuition is that this process is logarithmic so I wouldn't bet too much on this. \n",
    "\n",
    "Thanks for reading and please leave a star if you found this useful or interesting. "
   ]
  }
 ],
 "metadata": {
  "kernelspec": {
   "display_name": "CuPyEnv",
   "language": "python",
   "name": "python3"
  },
  "language_info": {
   "codemirror_mode": {
    "name": "ipython",
    "version": 3
   },
   "file_extension": ".py",
   "mimetype": "text/x-python",
   "name": "python",
   "nbconvert_exporter": "python",
   "pygments_lexer": "ipython3",
   "version": "3.11.4"
  },
  "orig_nbformat": 4
 },
 "nbformat": 4,
 "nbformat_minor": 2
}
